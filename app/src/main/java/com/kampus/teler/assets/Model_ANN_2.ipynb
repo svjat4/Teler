{
  "nbformat": 4,
  "nbformat_minor": 0,
  "metadata": {
    "colab": {
      "provenance": []
    },
    "kernelspec": {
      "name": "python3",
      "display_name": "Python 3"
    },
    "language_info": {
      "name": "python"
    }
  },
  "cells": [
    {
      "cell_type": "code",
      "execution_count": null,
      "metadata": {
        "id": "SqxfR0zkmOAO"
      },
      "outputs": [],
      "source": [
        "import tensorflow as tf\n",
        "from tensorflow import keras\n",
        "from tensorflow.keras.models import Sequential\n",
        "from sklearn import metrics\n",
        "from keras.layers import Conv1D, MaxPooling1D, Conv2D, MaxPooling2D, Dropout, Flatten, Activation, BatchNormalization\n",
        "from tensorflow.keras.layers import Dense\n",
        "from tensorflow.keras.callbacks import EarlyStopping\n",
        "import matplotlib.pyplot as plt\n",
        "from sklearn.model_selection import train_test_split\n",
        "from sklearn.metrics import accuracy_score, confusion_matrix, precision_recall_fscore_support\n",
        "import pandas as pd\n",
        "import numpy as np\n",
        "import os"
      ]
    },
    {
      "cell_type": "code",
      "source": [
        "# membaca dataset dari file CSV\n",
        "dataset = pd.read_csv('dataset_ann.csv')"
      ],
      "metadata": {
        "id": "kMg_mNL1mY_1"
      },
      "execution_count": null,
      "outputs": []
    },
    {
      "cell_type": "code",
      "source": [
        "#label di kolom riwayat_alergi\n",
        "#alergi 0 = bulu hewan, 1 = debu/tungau, 2 = makanan, 3 = obat, 4 = serbuk sari, 5 = suhu udara (dingin/panas)\n",
        "#jumlah kolom sebanyak 19 kolom\n",
        "dataset"
      ],
      "metadata": {
        "colab": {
          "base_uri": "https://localhost:8080/",
          "height": 487
        },
        "id": "FV_P1HSNmpwx",
        "outputId": "5ac798c1-0901-4204-c108-31375c4db307"
      },
      "execution_count": null,
      "outputs": [
        {
          "output_type": "execute_result",
          "data": {
            "text/plain": [
              "     kulit_gatal  ruam_atau_kulit_memerah  bengkak_di_wajah  bengkak_di_bibir  \\\n",
              "0              1                        1                 1                 0   \n",
              "1              1                        1                 0                 0   \n",
              "2              1                        1                 1                 0   \n",
              "3              1                        1                 0                 0   \n",
              "4              1                        1                 1                 1   \n",
              "..           ...                      ...               ...               ...   \n",
              "682            1                        1                 1                 1   \n",
              "683            0                        0                 0                 0   \n",
              "684            1                        1                 0                 0   \n",
              "685            0                        0                 0                 0   \n",
              "686            1                        1                 1                 1   \n",
              "\n",
              "     gatal_di_mulut  kesemutan_atau_kebas_di_mulut  gatal_di_daerah_mata  \\\n",
              "0                 0                              0                     0   \n",
              "1                 0                              0                     0   \n",
              "2                 0                              0                     1   \n",
              "3                 0                              0                     0   \n",
              "4                 1                              1                     1   \n",
              "..              ...                            ...                   ...   \n",
              "682               1                              1                     0   \n",
              "683               0                              0                     0   \n",
              "684               0                              0                     1   \n",
              "685               0                              0                     0   \n",
              "686               1                              1                     1   \n",
              "\n",
              "     bengkak_di_daerah_mata  mata_memerah  bersin  hidung_tersumbat  batuk  \\\n",
              "0                         0             0       1                 0      0   \n",
              "1                         0             0       0                 0      0   \n",
              "2                         0             0       1                 1      1   \n",
              "3                         0             1       1                 1      1   \n",
              "4                         1             0       1                 1      0   \n",
              "..                      ...           ...     ...               ...    ...   \n",
              "682                       1             0       0                 0      1   \n",
              "683                       0             0       0                 0      0   \n",
              "684                       1             0       1                 1      1   \n",
              "685                       0             0       0                 0      0   \n",
              "686                       0             1       0                 0      1   \n",
              "\n",
              "     sesak_napas  pilek  sakit_perut  mual  muntah  diare  \\\n",
              "0              0      1            0     0       0      0   \n",
              "1              0      0            0     0       0      0   \n",
              "2              0      1            0     0       0      0   \n",
              "3              0      1            0     0       0      0   \n",
              "4              1      0            1     1       0      1   \n",
              "..           ...    ...          ...   ...     ...    ...   \n",
              "682            1      0            1     1       1      1   \n",
              "683            0      0            0     0       0      0   \n",
              "684            0      0            0     0       0      0   \n",
              "685            0      0            1     1       1      1   \n",
              "686            1      0            1     1       1      0   \n",
              "\n",
              "     kambuh_di_musim_tertentu  riwayat_alergi  \n",
              "0                           0               5  \n",
              "1                           0               2  \n",
              "2                           1               5  \n",
              "3                           0               1  \n",
              "4                           1               2  \n",
              "..                        ...             ...  \n",
              "682                         0               2  \n",
              "683                         0               1  \n",
              "684                         0               0  \n",
              "685                         0               2  \n",
              "686                         0               3  \n",
              "\n",
              "[687 rows x 20 columns]"
            ],
            "text/html": [
              "\n",
              "  <div id=\"df-60025c4a-b415-4ab6-b0d0-0a99b5e937e7\">\n",
              "    <div class=\"colab-df-container\">\n",
              "      <div>\n",
              "<style scoped>\n",
              "    .dataframe tbody tr th:only-of-type {\n",
              "        vertical-align: middle;\n",
              "    }\n",
              "\n",
              "    .dataframe tbody tr th {\n",
              "        vertical-align: top;\n",
              "    }\n",
              "\n",
              "    .dataframe thead th {\n",
              "        text-align: right;\n",
              "    }\n",
              "</style>\n",
              "<table border=\"1\" class=\"dataframe\">\n",
              "  <thead>\n",
              "    <tr style=\"text-align: right;\">\n",
              "      <th></th>\n",
              "      <th>kulit_gatal</th>\n",
              "      <th>ruam_atau_kulit_memerah</th>\n",
              "      <th>bengkak_di_wajah</th>\n",
              "      <th>bengkak_di_bibir</th>\n",
              "      <th>gatal_di_mulut</th>\n",
              "      <th>kesemutan_atau_kebas_di_mulut</th>\n",
              "      <th>gatal_di_daerah_mata</th>\n",
              "      <th>bengkak_di_daerah_mata</th>\n",
              "      <th>mata_memerah</th>\n",
              "      <th>bersin</th>\n",
              "      <th>hidung_tersumbat</th>\n",
              "      <th>batuk</th>\n",
              "      <th>sesak_napas</th>\n",
              "      <th>pilek</th>\n",
              "      <th>sakit_perut</th>\n",
              "      <th>mual</th>\n",
              "      <th>muntah</th>\n",
              "      <th>diare</th>\n",
              "      <th>kambuh_di_musim_tertentu</th>\n",
              "      <th>riwayat_alergi</th>\n",
              "    </tr>\n",
              "  </thead>\n",
              "  <tbody>\n",
              "    <tr>\n",
              "      <th>0</th>\n",
              "      <td>1</td>\n",
              "      <td>1</td>\n",
              "      <td>1</td>\n",
              "      <td>0</td>\n",
              "      <td>0</td>\n",
              "      <td>0</td>\n",
              "      <td>0</td>\n",
              "      <td>0</td>\n",
              "      <td>0</td>\n",
              "      <td>1</td>\n",
              "      <td>0</td>\n",
              "      <td>0</td>\n",
              "      <td>0</td>\n",
              "      <td>1</td>\n",
              "      <td>0</td>\n",
              "      <td>0</td>\n",
              "      <td>0</td>\n",
              "      <td>0</td>\n",
              "      <td>0</td>\n",
              "      <td>5</td>\n",
              "    </tr>\n",
              "    <tr>\n",
              "      <th>1</th>\n",
              "      <td>1</td>\n",
              "      <td>1</td>\n",
              "      <td>0</td>\n",
              "      <td>0</td>\n",
              "      <td>0</td>\n",
              "      <td>0</td>\n",
              "      <td>0</td>\n",
              "      <td>0</td>\n",
              "      <td>0</td>\n",
              "      <td>0</td>\n",
              "      <td>0</td>\n",
              "      <td>0</td>\n",
              "      <td>0</td>\n",
              "      <td>0</td>\n",
              "      <td>0</td>\n",
              "      <td>0</td>\n",
              "      <td>0</td>\n",
              "      <td>0</td>\n",
              "      <td>0</td>\n",
              "      <td>2</td>\n",
              "    </tr>\n",
              "    <tr>\n",
              "      <th>2</th>\n",
              "      <td>1</td>\n",
              "      <td>1</td>\n",
              "      <td>1</td>\n",
              "      <td>0</td>\n",
              "      <td>0</td>\n",
              "      <td>0</td>\n",
              "      <td>1</td>\n",
              "      <td>0</td>\n",
              "      <td>0</td>\n",
              "      <td>1</td>\n",
              "      <td>1</td>\n",
              "      <td>1</td>\n",
              "      <td>0</td>\n",
              "      <td>1</td>\n",
              "      <td>0</td>\n",
              "      <td>0</td>\n",
              "      <td>0</td>\n",
              "      <td>0</td>\n",
              "      <td>1</td>\n",
              "      <td>5</td>\n",
              "    </tr>\n",
              "    <tr>\n",
              "      <th>3</th>\n",
              "      <td>1</td>\n",
              "      <td>1</td>\n",
              "      <td>0</td>\n",
              "      <td>0</td>\n",
              "      <td>0</td>\n",
              "      <td>0</td>\n",
              "      <td>0</td>\n",
              "      <td>0</td>\n",
              "      <td>1</td>\n",
              "      <td>1</td>\n",
              "      <td>1</td>\n",
              "      <td>1</td>\n",
              "      <td>0</td>\n",
              "      <td>1</td>\n",
              "      <td>0</td>\n",
              "      <td>0</td>\n",
              "      <td>0</td>\n",
              "      <td>0</td>\n",
              "      <td>0</td>\n",
              "      <td>1</td>\n",
              "    </tr>\n",
              "    <tr>\n",
              "      <th>4</th>\n",
              "      <td>1</td>\n",
              "      <td>1</td>\n",
              "      <td>1</td>\n",
              "      <td>1</td>\n",
              "      <td>1</td>\n",
              "      <td>1</td>\n",
              "      <td>1</td>\n",
              "      <td>1</td>\n",
              "      <td>0</td>\n",
              "      <td>1</td>\n",
              "      <td>1</td>\n",
              "      <td>0</td>\n",
              "      <td>1</td>\n",
              "      <td>0</td>\n",
              "      <td>1</td>\n",
              "      <td>1</td>\n",
              "      <td>0</td>\n",
              "      <td>1</td>\n",
              "      <td>1</td>\n",
              "      <td>2</td>\n",
              "    </tr>\n",
              "    <tr>\n",
              "      <th>...</th>\n",
              "      <td>...</td>\n",
              "      <td>...</td>\n",
              "      <td>...</td>\n",
              "      <td>...</td>\n",
              "      <td>...</td>\n",
              "      <td>...</td>\n",
              "      <td>...</td>\n",
              "      <td>...</td>\n",
              "      <td>...</td>\n",
              "      <td>...</td>\n",
              "      <td>...</td>\n",
              "      <td>...</td>\n",
              "      <td>...</td>\n",
              "      <td>...</td>\n",
              "      <td>...</td>\n",
              "      <td>...</td>\n",
              "      <td>...</td>\n",
              "      <td>...</td>\n",
              "      <td>...</td>\n",
              "      <td>...</td>\n",
              "    </tr>\n",
              "    <tr>\n",
              "      <th>682</th>\n",
              "      <td>1</td>\n",
              "      <td>1</td>\n",
              "      <td>1</td>\n",
              "      <td>1</td>\n",
              "      <td>1</td>\n",
              "      <td>1</td>\n",
              "      <td>0</td>\n",
              "      <td>1</td>\n",
              "      <td>0</td>\n",
              "      <td>0</td>\n",
              "      <td>0</td>\n",
              "      <td>1</td>\n",
              "      <td>1</td>\n",
              "      <td>0</td>\n",
              "      <td>1</td>\n",
              "      <td>1</td>\n",
              "      <td>1</td>\n",
              "      <td>1</td>\n",
              "      <td>0</td>\n",
              "      <td>2</td>\n",
              "    </tr>\n",
              "    <tr>\n",
              "      <th>683</th>\n",
              "      <td>0</td>\n",
              "      <td>0</td>\n",
              "      <td>0</td>\n",
              "      <td>0</td>\n",
              "      <td>0</td>\n",
              "      <td>0</td>\n",
              "      <td>0</td>\n",
              "      <td>0</td>\n",
              "      <td>0</td>\n",
              "      <td>0</td>\n",
              "      <td>0</td>\n",
              "      <td>0</td>\n",
              "      <td>0</td>\n",
              "      <td>0</td>\n",
              "      <td>0</td>\n",
              "      <td>0</td>\n",
              "      <td>0</td>\n",
              "      <td>0</td>\n",
              "      <td>0</td>\n",
              "      <td>1</td>\n",
              "    </tr>\n",
              "    <tr>\n",
              "      <th>684</th>\n",
              "      <td>1</td>\n",
              "      <td>1</td>\n",
              "      <td>0</td>\n",
              "      <td>0</td>\n",
              "      <td>0</td>\n",
              "      <td>0</td>\n",
              "      <td>1</td>\n",
              "      <td>1</td>\n",
              "      <td>0</td>\n",
              "      <td>1</td>\n",
              "      <td>1</td>\n",
              "      <td>1</td>\n",
              "      <td>0</td>\n",
              "      <td>0</td>\n",
              "      <td>0</td>\n",
              "      <td>0</td>\n",
              "      <td>0</td>\n",
              "      <td>0</td>\n",
              "      <td>0</td>\n",
              "      <td>0</td>\n",
              "    </tr>\n",
              "    <tr>\n",
              "      <th>685</th>\n",
              "      <td>0</td>\n",
              "      <td>0</td>\n",
              "      <td>0</td>\n",
              "      <td>0</td>\n",
              "      <td>0</td>\n",
              "      <td>0</td>\n",
              "      <td>0</td>\n",
              "      <td>0</td>\n",
              "      <td>0</td>\n",
              "      <td>0</td>\n",
              "      <td>0</td>\n",
              "      <td>0</td>\n",
              "      <td>0</td>\n",
              "      <td>0</td>\n",
              "      <td>1</td>\n",
              "      <td>1</td>\n",
              "      <td>1</td>\n",
              "      <td>1</td>\n",
              "      <td>0</td>\n",
              "      <td>2</td>\n",
              "    </tr>\n",
              "    <tr>\n",
              "      <th>686</th>\n",
              "      <td>1</td>\n",
              "      <td>1</td>\n",
              "      <td>1</td>\n",
              "      <td>1</td>\n",
              "      <td>1</td>\n",
              "      <td>1</td>\n",
              "      <td>1</td>\n",
              "      <td>0</td>\n",
              "      <td>1</td>\n",
              "      <td>0</td>\n",
              "      <td>0</td>\n",
              "      <td>1</td>\n",
              "      <td>1</td>\n",
              "      <td>0</td>\n",
              "      <td>1</td>\n",
              "      <td>1</td>\n",
              "      <td>1</td>\n",
              "      <td>0</td>\n",
              "      <td>0</td>\n",
              "      <td>3</td>\n",
              "    </tr>\n",
              "  </tbody>\n",
              "</table>\n",
              "<p>687 rows × 20 columns</p>\n",
              "</div>\n",
              "      <button class=\"colab-df-convert\" onclick=\"convertToInteractive('df-60025c4a-b415-4ab6-b0d0-0a99b5e937e7')\"\n",
              "              title=\"Convert this dataframe to an interactive table.\"\n",
              "              style=\"display:none;\">\n",
              "        \n",
              "  <svg xmlns=\"http://www.w3.org/2000/svg\" height=\"24px\"viewBox=\"0 0 24 24\"\n",
              "       width=\"24px\">\n",
              "    <path d=\"M0 0h24v24H0V0z\" fill=\"none\"/>\n",
              "    <path d=\"M18.56 5.44l.94 2.06.94-2.06 2.06-.94-2.06-.94-.94-2.06-.94 2.06-2.06.94zm-11 1L8.5 8.5l.94-2.06 2.06-.94-2.06-.94L8.5 2.5l-.94 2.06-2.06.94zm10 10l.94 2.06.94-2.06 2.06-.94-2.06-.94-.94-2.06-.94 2.06-2.06.94z\"/><path d=\"M17.41 7.96l-1.37-1.37c-.4-.4-.92-.59-1.43-.59-.52 0-1.04.2-1.43.59L10.3 9.45l-7.72 7.72c-.78.78-.78 2.05 0 2.83L4 21.41c.39.39.9.59 1.41.59.51 0 1.02-.2 1.41-.59l7.78-7.78 2.81-2.81c.8-.78.8-2.07 0-2.86zM5.41 20L4 18.59l7.72-7.72 1.47 1.35L5.41 20z\"/>\n",
              "  </svg>\n",
              "      </button>\n",
              "      \n",
              "  <style>\n",
              "    .colab-df-container {\n",
              "      display:flex;\n",
              "      flex-wrap:wrap;\n",
              "      gap: 12px;\n",
              "    }\n",
              "\n",
              "    .colab-df-convert {\n",
              "      background-color: #E8F0FE;\n",
              "      border: none;\n",
              "      border-radius: 50%;\n",
              "      cursor: pointer;\n",
              "      display: none;\n",
              "      fill: #1967D2;\n",
              "      height: 32px;\n",
              "      padding: 0 0 0 0;\n",
              "      width: 32px;\n",
              "    }\n",
              "\n",
              "    .colab-df-convert:hover {\n",
              "      background-color: #E2EBFA;\n",
              "      box-shadow: 0px 1px 2px rgba(60, 64, 67, 0.3), 0px 1px 3px 1px rgba(60, 64, 67, 0.15);\n",
              "      fill: #174EA6;\n",
              "    }\n",
              "\n",
              "    [theme=dark] .colab-df-convert {\n",
              "      background-color: #3B4455;\n",
              "      fill: #D2E3FC;\n",
              "    }\n",
              "\n",
              "    [theme=dark] .colab-df-convert:hover {\n",
              "      background-color: #434B5C;\n",
              "      box-shadow: 0px 1px 3px 1px rgba(0, 0, 0, 0.15);\n",
              "      filter: drop-shadow(0px 1px 2px rgba(0, 0, 0, 0.3));\n",
              "      fill: #FFFFFF;\n",
              "    }\n",
              "  </style>\n",
              "\n",
              "      <script>\n",
              "        const buttonEl =\n",
              "          document.querySelector('#df-60025c4a-b415-4ab6-b0d0-0a99b5e937e7 button.colab-df-convert');\n",
              "        buttonEl.style.display =\n",
              "          google.colab.kernel.accessAllowed ? 'block' : 'none';\n",
              "\n",
              "        async function convertToInteractive(key) {\n",
              "          const element = document.querySelector('#df-60025c4a-b415-4ab6-b0d0-0a99b5e937e7');\n",
              "          const dataTable =\n",
              "            await google.colab.kernel.invokeFunction('convertToInteractive',\n",
              "                                                     [key], {});\n",
              "          if (!dataTable) return;\n",
              "\n",
              "          const docLinkHtml = 'Like what you see? Visit the ' +\n",
              "            '<a target=\"_blank\" href=https://colab.research.google.com/notebooks/data_table.ipynb>data table notebook</a>'\n",
              "            + ' to learn more about interactive tables.';\n",
              "          element.innerHTML = '';\n",
              "          dataTable['output_type'] = 'display_data';\n",
              "          await google.colab.output.renderOutput(dataTable, element);\n",
              "          const docLink = document.createElement('div');\n",
              "          docLink.innerHTML = docLinkHtml;\n",
              "          element.appendChild(docLink);\n",
              "        }\n",
              "      </script>\n",
              "    </div>\n",
              "  </div>\n",
              "  "
            ]
          },
          "metadata": {},
          "execution_count": 4
        }
      ]
    },
    {
      "cell_type": "code",
      "source": [
        "dataset.dtypes"
      ],
      "metadata": {
        "colab": {
          "base_uri": "https://localhost:8080/"
        },
        "id": "h4vayaS_rM3n",
        "outputId": "e3273e17-0919-4607-9bd0-1344d83c0baf"
      },
      "execution_count": null,
      "outputs": [
        {
          "output_type": "execute_result",
          "data": {
            "text/plain": [
              "kulit_gatal                      int64\n",
              "ruam_atau_kulit_memerah          int64\n",
              "bengkak_di_wajah                 int64\n",
              "bengkak_di_bibir                 int64\n",
              "gatal_di_mulut                   int64\n",
              "kesemutan_atau_kebas_di_mulut    int64\n",
              "gatal_di_daerah_mata             int64\n",
              "bengkak_di_daerah_mata           int64\n",
              "mata_memerah                     int64\n",
              "bersin                           int64\n",
              "hidung_tersumbat                 int64\n",
              "batuk                            int64\n",
              "sesak_napas                      int64\n",
              "pilek                            int64\n",
              "sakit_perut                      int64\n",
              "mual                             int64\n",
              "muntah                           int64\n",
              "diare                            int64\n",
              "kambuh_di_musim_tertentu         int64\n",
              "riwayat_alergi                   int64\n",
              "dtype: object"
            ]
          },
          "metadata": {},
          "execution_count": 5
        }
      ]
    },
    {
      "cell_type": "code",
      "source": [
        "# Memisahkan fitur dan label\n",
        "# gejala = dataset.iloc[:, :-1].values\n",
        "# alergi = dataset.iloc[:, -1].values\n",
        "\n",
        "gejala = dataset.drop('riwayat_alergi',axis=1)\n",
        "alergi = dataset['riwayat_alergi']"
      ],
      "metadata": {
        "id": "UR2CuTNBm098"
      },
      "execution_count": null,
      "outputs": []
    },
    {
      "cell_type": "code",
      "source": [
        "gejala.sum()"
      ],
      "metadata": {
        "colab": {
          "base_uri": "https://localhost:8080/"
        },
        "id": "tizj1Z-JtmxG",
        "outputId": "43a53008-d27e-46ab-d4d3-1e80c2099e3a"
      },
      "execution_count": null,
      "outputs": [
        {
          "output_type": "execute_result",
          "data": {
            "text/plain": [
              "kulit_gatal                      539\n",
              "ruam_atau_kulit_memerah          521\n",
              "bengkak_di_wajah                 231\n",
              "bengkak_di_bibir                 188\n",
              "gatal_di_mulut                   226\n",
              "kesemutan_atau_kebas_di_mulut    126\n",
              "gatal_di_daerah_mata             335\n",
              "bengkak_di_daerah_mata           221\n",
              "mata_memerah                     324\n",
              "bersin                           452\n",
              "hidung_tersumbat                 426\n",
              "batuk                            432\n",
              "sesak_napas                      408\n",
              "pilek                            357\n",
              "sakit_perut                      173\n",
              "mual                             197\n",
              "muntah                           137\n",
              "diare                             83\n",
              "kambuh_di_musim_tertentu         240\n",
              "dtype: int64"
            ]
          },
          "metadata": {},
          "execution_count": 7
        }
      ]
    },
    {
      "cell_type": "code",
      "source": [
        "x_train, x_test, y_train, y_test = train_test_split(gejala, alergi, test_size=0.1, random_state=16, shuffle=True)"
      ],
      "metadata": {
        "id": "fYoOwiWrsbW-"
      },
      "execution_count": null,
      "outputs": []
    },
    {
      "cell_type": "code",
      "source": [
        "# Membangun model\n",
        "\"\"\"\n",
        "Ningkatin Akuarasi\n",
        "nambahin layer,\n",
        "neuron model\n",
        "function activation bisa diganti relu, sigmoid, leaky relu (coba cek referensi function activatio)\n",
        "\n",
        "\"\"\" \n",
        "model = Sequential()\n",
        "model.add(Dense(160, input_dim=19, activation='relu'))\n",
        "model.add(Dense(64, activation='relu'))\n",
        "model.add(Dense(32, activation='relu'))\n",
        "model.add(Dense(6, activation='softmax'))"
      ],
      "metadata": {
        "id": "-vb8fOvgnFys"
      },
      "execution_count": null,
      "outputs": []
    },
    {
      "cell_type": "code",
      "source": [
        "# Membuat kompolasi model\n",
        "\"\"\"\n",
        "Mengatur optimizer, learning rate\n",
        "referensi optimizer \n",
        "https://www.google.com/search?q=list+optimizer+ann&tbm=isch&ved=2ahUKEwiE_MX2oZj_AhUmgmMGHQD8AOcQ2-cCegQIABAA&oq=list+optimizer+ann&gs_lcp=CgNpbWcQAzoECCMQJ1DcEliXGmDwG2gAcAB4AIABtAGIAZ8HkgEDMC42mAEAoAEBqgELZ3dzLXdpei1pbWfAAQE&sclient=img&ei=smpzZITbG6aEjuMPgPiDuA4&bih=569&biw=1366#imgrc=kZ03liYln8Me7M&imgdii=yK-C7934uBwupM\n",
        "\"\"\"\n",
        "OPT    = tf.keras.optimizers.Adamax(learning_rate=0.002)\n",
        "model.compile(optimizer=OPT,\n",
        "              loss='sparse_categorical_crossentropy', \n",
        "              metrics=['accuracy'])"
      ],
      "metadata": {
        "id": "J2hDXzs1nzQf"
      },
      "execution_count": null,
      "outputs": []
    },
    {
      "cell_type": "code",
      "source": [
        "# Melatih model\n",
        "history = model.fit(x_train, y_train, epochs=100, batch_size=16, validation_data=(x_test, y_test))"
      ],
      "metadata": {
        "colab": {
          "base_uri": "https://localhost:8080/"
        },
        "id": "4MAcVW_7n2Yw",
        "outputId": "e953097d-1128-4186-833a-28010cde8a9d"
      },
      "execution_count": null,
      "outputs": [
        {
          "output_type": "stream",
          "name": "stdout",
          "text": [
            "Epoch 1/100\n",
            "39/39 [==============================] - 1s 10ms/step - loss: 1.6708 - accuracy: 0.2864 - val_loss: 1.5559 - val_accuracy: 0.2754\n",
            "Epoch 2/100\n",
            "39/39 [==============================] - 0s 4ms/step - loss: 1.4222 - accuracy: 0.4644 - val_loss: 1.2873 - val_accuracy: 0.5942\n",
            "Epoch 3/100\n",
            "39/39 [==============================] - 0s 3ms/step - loss: 1.1597 - accuracy: 0.5874 - val_loss: 1.0755 - val_accuracy: 0.6812\n",
            "Epoch 4/100\n",
            "39/39 [==============================] - 0s 3ms/step - loss: 0.9735 - accuracy: 0.6505 - val_loss: 0.9044 - val_accuracy: 0.6522\n",
            "Epoch 5/100\n",
            "39/39 [==============================] - 0s 4ms/step - loss: 0.8492 - accuracy: 0.6780 - val_loss: 0.8269 - val_accuracy: 0.7101\n",
            "Epoch 6/100\n",
            "39/39 [==============================] - 0s 4ms/step - loss: 0.7715 - accuracy: 0.7136 - val_loss: 0.7584 - val_accuracy: 0.7391\n",
            "Epoch 7/100\n",
            "39/39 [==============================] - 0s 3ms/step - loss: 0.7161 - accuracy: 0.7411 - val_loss: 0.7121 - val_accuracy: 0.6957\n",
            "Epoch 8/100\n",
            "39/39 [==============================] - 0s 3ms/step - loss: 0.6728 - accuracy: 0.7621 - val_loss: 0.7068 - val_accuracy: 0.7826\n",
            "Epoch 9/100\n",
            "39/39 [==============================] - 0s 3ms/step - loss: 0.6382 - accuracy: 0.7686 - val_loss: 0.6753 - val_accuracy: 0.7826\n",
            "Epoch 10/100\n",
            "39/39 [==============================] - 0s 3ms/step - loss: 0.5921 - accuracy: 0.7945 - val_loss: 0.6398 - val_accuracy: 0.7681\n",
            "Epoch 11/100\n",
            "39/39 [==============================] - 0s 4ms/step - loss: 0.5659 - accuracy: 0.7961 - val_loss: 0.6024 - val_accuracy: 0.7391\n",
            "Epoch 12/100\n",
            "39/39 [==============================] - 0s 3ms/step - loss: 0.5459 - accuracy: 0.8058 - val_loss: 0.6019 - val_accuracy: 0.7246\n",
            "Epoch 13/100\n",
            "39/39 [==============================] - 0s 3ms/step - loss: 0.5183 - accuracy: 0.8123 - val_loss: 0.5973 - val_accuracy: 0.7826\n",
            "Epoch 14/100\n",
            "39/39 [==============================] - 0s 3ms/step - loss: 0.4917 - accuracy: 0.8188 - val_loss: 0.5739 - val_accuracy: 0.7826\n",
            "Epoch 15/100\n",
            "39/39 [==============================] - 0s 3ms/step - loss: 0.4731 - accuracy: 0.8252 - val_loss: 0.5530 - val_accuracy: 0.7681\n",
            "Epoch 16/100\n",
            "39/39 [==============================] - 0s 3ms/step - loss: 0.4578 - accuracy: 0.8269 - val_loss: 0.5187 - val_accuracy: 0.8261\n",
            "Epoch 17/100\n",
            "39/39 [==============================] - 0s 3ms/step - loss: 0.4324 - accuracy: 0.8479 - val_loss: 0.5183 - val_accuracy: 0.8261\n",
            "Epoch 18/100\n",
            "39/39 [==============================] - 0s 3ms/step - loss: 0.4216 - accuracy: 0.8430 - val_loss: 0.5151 - val_accuracy: 0.8116\n",
            "Epoch 19/100\n",
            "39/39 [==============================] - 0s 3ms/step - loss: 0.4020 - accuracy: 0.8544 - val_loss: 0.4895 - val_accuracy: 0.7971\n",
            "Epoch 20/100\n",
            "39/39 [==============================] - 0s 3ms/step - loss: 0.3823 - accuracy: 0.8689 - val_loss: 0.4559 - val_accuracy: 0.8551\n",
            "Epoch 21/100\n",
            "39/39 [==============================] - 0s 4ms/step - loss: 0.3715 - accuracy: 0.8673 - val_loss: 0.4810 - val_accuracy: 0.7971\n",
            "Epoch 22/100\n",
            "39/39 [==============================] - 0s 3ms/step - loss: 0.3538 - accuracy: 0.8770 - val_loss: 0.4515 - val_accuracy: 0.8116\n",
            "Epoch 23/100\n",
            "39/39 [==============================] - 0s 3ms/step - loss: 0.3442 - accuracy: 0.8835 - val_loss: 0.4474 - val_accuracy: 0.8261\n",
            "Epoch 24/100\n",
            "39/39 [==============================] - 0s 4ms/step - loss: 0.3309 - accuracy: 0.8851 - val_loss: 0.3973 - val_accuracy: 0.8551\n",
            "Epoch 25/100\n",
            "39/39 [==============================] - 0s 3ms/step - loss: 0.3232 - accuracy: 0.8803 - val_loss: 0.4539 - val_accuracy: 0.8116\n",
            "Epoch 26/100\n",
            "39/39 [==============================] - 0s 3ms/step - loss: 0.3074 - accuracy: 0.8964 - val_loss: 0.4317 - val_accuracy: 0.8406\n",
            "Epoch 27/100\n",
            "39/39 [==============================] - 0s 3ms/step - loss: 0.3081 - accuracy: 0.8851 - val_loss: 0.3713 - val_accuracy: 0.8551\n",
            "Epoch 28/100\n",
            "39/39 [==============================] - 0s 3ms/step - loss: 0.2854 - accuracy: 0.8932 - val_loss: 0.3818 - val_accuracy: 0.8406\n",
            "Epoch 29/100\n",
            "39/39 [==============================] - 0s 3ms/step - loss: 0.2790 - accuracy: 0.9029 - val_loss: 0.3323 - val_accuracy: 0.8841\n",
            "Epoch 30/100\n",
            "39/39 [==============================] - 0s 3ms/step - loss: 0.2713 - accuracy: 0.9061 - val_loss: 0.3799 - val_accuracy: 0.8551\n",
            "Epoch 31/100\n",
            "39/39 [==============================] - 0s 3ms/step - loss: 0.2679 - accuracy: 0.9045 - val_loss: 0.3637 - val_accuracy: 0.8696\n",
            "Epoch 32/100\n",
            "39/39 [==============================] - 0s 3ms/step - loss: 0.2532 - accuracy: 0.9013 - val_loss: 0.3365 - val_accuracy: 0.8841\n",
            "Epoch 33/100\n",
            "39/39 [==============================] - 0s 4ms/step - loss: 0.2523 - accuracy: 0.9110 - val_loss: 0.3077 - val_accuracy: 0.8986\n",
            "Epoch 34/100\n",
            "39/39 [==============================] - 0s 3ms/step - loss: 0.2381 - accuracy: 0.9126 - val_loss: 0.3404 - val_accuracy: 0.8841\n",
            "Epoch 35/100\n",
            "39/39 [==============================] - 0s 3ms/step - loss: 0.2395 - accuracy: 0.9191 - val_loss: 0.3308 - val_accuracy: 0.9130\n",
            "Epoch 36/100\n",
            "39/39 [==============================] - 0s 3ms/step - loss: 0.2383 - accuracy: 0.9191 - val_loss: 0.3340 - val_accuracy: 0.8986\n",
            "Epoch 37/100\n",
            "39/39 [==============================] - 0s 3ms/step - loss: 0.2258 - accuracy: 0.9175 - val_loss: 0.3075 - val_accuracy: 0.8841\n",
            "Epoch 38/100\n",
            "39/39 [==============================] - 0s 3ms/step - loss: 0.2166 - accuracy: 0.9126 - val_loss: 0.2828 - val_accuracy: 0.8841\n",
            "Epoch 39/100\n",
            "39/39 [==============================] - 0s 4ms/step - loss: 0.2108 - accuracy: 0.9272 - val_loss: 0.3332 - val_accuracy: 0.8551\n",
            "Epoch 40/100\n",
            "39/39 [==============================] - 0s 5ms/step - loss: 0.2173 - accuracy: 0.9175 - val_loss: 0.2471 - val_accuracy: 0.9275\n",
            "Epoch 41/100\n",
            "39/39 [==============================] - 0s 4ms/step - loss: 0.2157 - accuracy: 0.9110 - val_loss: 0.2631 - val_accuracy: 0.8841\n",
            "Epoch 42/100\n",
            "39/39 [==============================] - 0s 5ms/step - loss: 0.1998 - accuracy: 0.9320 - val_loss: 0.2491 - val_accuracy: 0.9130\n",
            "Epoch 43/100\n",
            "39/39 [==============================] - 0s 5ms/step - loss: 0.2079 - accuracy: 0.9126 - val_loss: 0.2590 - val_accuracy: 0.9130\n",
            "Epoch 44/100\n",
            "39/39 [==============================] - 0s 5ms/step - loss: 0.1984 - accuracy: 0.9142 - val_loss: 0.2697 - val_accuracy: 0.8841\n",
            "Epoch 45/100\n",
            "39/39 [==============================] - 0s 4ms/step - loss: 0.1892 - accuracy: 0.9288 - val_loss: 0.2860 - val_accuracy: 0.8696\n",
            "Epoch 46/100\n",
            "39/39 [==============================] - 0s 4ms/step - loss: 0.1881 - accuracy: 0.9320 - val_loss: 0.2691 - val_accuracy: 0.8696\n",
            "Epoch 47/100\n",
            "39/39 [==============================] - 0s 5ms/step - loss: 0.1883 - accuracy: 0.9223 - val_loss: 0.2856 - val_accuracy: 0.9130\n",
            "Epoch 48/100\n",
            "39/39 [==============================] - 0s 5ms/step - loss: 0.1902 - accuracy: 0.9223 - val_loss: 0.2472 - val_accuracy: 0.8986\n",
            "Epoch 49/100\n",
            "39/39 [==============================] - 0s 5ms/step - loss: 0.1801 - accuracy: 0.9256 - val_loss: 0.2714 - val_accuracy: 0.8841\n",
            "Epoch 50/100\n",
            "39/39 [==============================] - 0s 5ms/step - loss: 0.1994 - accuracy: 0.9223 - val_loss: 0.3138 - val_accuracy: 0.8551\n",
            "Epoch 51/100\n",
            "39/39 [==============================] - 0s 5ms/step - loss: 0.1785 - accuracy: 0.9288 - val_loss: 0.2924 - val_accuracy: 0.8696\n",
            "Epoch 52/100\n",
            "39/39 [==============================] - 0s 5ms/step - loss: 0.1776 - accuracy: 0.9191 - val_loss: 0.2236 - val_accuracy: 0.8841\n",
            "Epoch 53/100\n",
            "39/39 [==============================] - 0s 5ms/step - loss: 0.1777 - accuracy: 0.9191 - val_loss: 0.2264 - val_accuracy: 0.9275\n",
            "Epoch 54/100\n",
            "39/39 [==============================] - 0s 5ms/step - loss: 0.1850 - accuracy: 0.9191 - val_loss: 0.2147 - val_accuracy: 0.9130\n",
            "Epoch 55/100\n",
            "39/39 [==============================] - 0s 4ms/step - loss: 0.1703 - accuracy: 0.9369 - val_loss: 0.2113 - val_accuracy: 0.9275\n",
            "Epoch 56/100\n",
            "39/39 [==============================] - 0s 3ms/step - loss: 0.1765 - accuracy: 0.9239 - val_loss: 0.2350 - val_accuracy: 0.9130\n",
            "Epoch 57/100\n",
            "39/39 [==============================] - 0s 4ms/step - loss: 0.1750 - accuracy: 0.9223 - val_loss: 0.2640 - val_accuracy: 0.8986\n",
            "Epoch 58/100\n",
            "39/39 [==============================] - 0s 3ms/step - loss: 0.1712 - accuracy: 0.9320 - val_loss: 0.2156 - val_accuracy: 0.9130\n",
            "Epoch 59/100\n",
            "39/39 [==============================] - 0s 3ms/step - loss: 0.1680 - accuracy: 0.9288 - val_loss: 0.2378 - val_accuracy: 0.8986\n",
            "Epoch 60/100\n",
            "39/39 [==============================] - 0s 3ms/step - loss: 0.1733 - accuracy: 0.9239 - val_loss: 0.2478 - val_accuracy: 0.8986\n",
            "Epoch 61/100\n",
            "39/39 [==============================] - 0s 3ms/step - loss: 0.1636 - accuracy: 0.9256 - val_loss: 0.2210 - val_accuracy: 0.8986\n",
            "Epoch 62/100\n",
            "39/39 [==============================] - 0s 4ms/step - loss: 0.1663 - accuracy: 0.9304 - val_loss: 0.2079 - val_accuracy: 0.9275\n",
            "Epoch 63/100\n",
            "39/39 [==============================] - 0s 3ms/step - loss: 0.1611 - accuracy: 0.9256 - val_loss: 0.1938 - val_accuracy: 0.9275\n",
            "Epoch 64/100\n",
            "39/39 [==============================] - 0s 4ms/step - loss: 0.1607 - accuracy: 0.9272 - val_loss: 0.2218 - val_accuracy: 0.8841\n",
            "Epoch 65/100\n",
            "39/39 [==============================] - 0s 4ms/step - loss: 0.1631 - accuracy: 0.9353 - val_loss: 0.2098 - val_accuracy: 0.9130\n",
            "Epoch 66/100\n",
            "39/39 [==============================] - 0s 4ms/step - loss: 0.1694 - accuracy: 0.9272 - val_loss: 0.2235 - val_accuracy: 0.9130\n",
            "Epoch 67/100\n",
            "39/39 [==============================] - 0s 3ms/step - loss: 0.1583 - accuracy: 0.9320 - val_loss: 0.2382 - val_accuracy: 0.8841\n",
            "Epoch 68/100\n",
            "39/39 [==============================] - 0s 3ms/step - loss: 0.1714 - accuracy: 0.9159 - val_loss: 0.1746 - val_accuracy: 0.9420\n",
            "Epoch 69/100\n",
            "39/39 [==============================] - 0s 3ms/step - loss: 0.1635 - accuracy: 0.9369 - val_loss: 0.2161 - val_accuracy: 0.8841\n",
            "Epoch 70/100\n",
            "39/39 [==============================] - 0s 4ms/step - loss: 0.1700 - accuracy: 0.9239 - val_loss: 0.2664 - val_accuracy: 0.8841\n",
            "Epoch 71/100\n",
            "39/39 [==============================] - 0s 3ms/step - loss: 0.1538 - accuracy: 0.9288 - val_loss: 0.2445 - val_accuracy: 0.8986\n",
            "Epoch 72/100\n",
            "39/39 [==============================] - 0s 3ms/step - loss: 0.1548 - accuracy: 0.9207 - val_loss: 0.2067 - val_accuracy: 0.8986\n",
            "Epoch 73/100\n",
            "39/39 [==============================] - 0s 3ms/step - loss: 0.1604 - accuracy: 0.9337 - val_loss: 0.3217 - val_accuracy: 0.8841\n",
            "Epoch 74/100\n",
            "39/39 [==============================] - 0s 4ms/step - loss: 0.1575 - accuracy: 0.9304 - val_loss: 0.1650 - val_accuracy: 0.9275\n",
            "Epoch 75/100\n",
            "39/39 [==============================] - 0s 3ms/step - loss: 0.1603 - accuracy: 0.9256 - val_loss: 0.2064 - val_accuracy: 0.8986\n",
            "Epoch 76/100\n",
            "39/39 [==============================] - 0s 3ms/step - loss: 0.1503 - accuracy: 0.9320 - val_loss: 0.2448 - val_accuracy: 0.8696\n",
            "Epoch 77/100\n",
            "39/39 [==============================] - 0s 3ms/step - loss: 0.1506 - accuracy: 0.9304 - val_loss: 0.1877 - val_accuracy: 0.9275\n",
            "Epoch 78/100\n",
            "39/39 [==============================] - 0s 3ms/step - loss: 0.1549 - accuracy: 0.9223 - val_loss: 0.2135 - val_accuracy: 0.8986\n",
            "Epoch 79/100\n",
            "39/39 [==============================] - 0s 3ms/step - loss: 0.1567 - accuracy: 0.9304 - val_loss: 0.2397 - val_accuracy: 0.8696\n",
            "Epoch 80/100\n",
            "39/39 [==============================] - 0s 3ms/step - loss: 0.1704 - accuracy: 0.9320 - val_loss: 0.3522 - val_accuracy: 0.8986\n",
            "Epoch 81/100\n",
            "39/39 [==============================] - 0s 3ms/step - loss: 0.1584 - accuracy: 0.9304 - val_loss: 0.2607 - val_accuracy: 0.8841\n",
            "Epoch 82/100\n",
            "39/39 [==============================] - 0s 3ms/step - loss: 0.1481 - accuracy: 0.9304 - val_loss: 0.2336 - val_accuracy: 0.8986\n",
            "Epoch 83/100\n",
            "39/39 [==============================] - 0s 3ms/step - loss: 0.1470 - accuracy: 0.9369 - val_loss: 0.2342 - val_accuracy: 0.8841\n",
            "Epoch 84/100\n",
            "39/39 [==============================] - 0s 3ms/step - loss: 0.1463 - accuracy: 0.9369 - val_loss: 0.2089 - val_accuracy: 0.8841\n",
            "Epoch 85/100\n",
            "39/39 [==============================] - 0s 3ms/step - loss: 0.1507 - accuracy: 0.9288 - val_loss: 0.2368 - val_accuracy: 0.8986\n",
            "Epoch 86/100\n",
            "39/39 [==============================] - 0s 3ms/step - loss: 0.1473 - accuracy: 0.9353 - val_loss: 0.3099 - val_accuracy: 0.8986\n",
            "Epoch 87/100\n",
            "39/39 [==============================] - 0s 3ms/step - loss: 0.1500 - accuracy: 0.9337 - val_loss: 0.2034 - val_accuracy: 0.8986\n",
            "Epoch 88/100\n",
            "39/39 [==============================] - 0s 3ms/step - loss: 0.1489 - accuracy: 0.9256 - val_loss: 0.2410 - val_accuracy: 0.8841\n",
            "Epoch 89/100\n",
            "39/39 [==============================] - 0s 3ms/step - loss: 0.1504 - accuracy: 0.9385 - val_loss: 0.2581 - val_accuracy: 0.9130\n",
            "Epoch 90/100\n",
            "39/39 [==============================] - 0s 3ms/step - loss: 0.1487 - accuracy: 0.9191 - val_loss: 0.2264 - val_accuracy: 0.8986\n",
            "Epoch 91/100\n",
            "39/39 [==============================] - 0s 3ms/step - loss: 0.1493 - accuracy: 0.9288 - val_loss: 0.2049 - val_accuracy: 0.8986\n",
            "Epoch 92/100\n",
            "39/39 [==============================] - 0s 3ms/step - loss: 0.1638 - accuracy: 0.9223 - val_loss: 0.2460 - val_accuracy: 0.8841\n",
            "Epoch 93/100\n",
            "39/39 [==============================] - 0s 3ms/step - loss: 0.1544 - accuracy: 0.9304 - val_loss: 0.2454 - val_accuracy: 0.8841\n",
            "Epoch 94/100\n",
            "39/39 [==============================] - 0s 4ms/step - loss: 0.1454 - accuracy: 0.9337 - val_loss: 0.1909 - val_accuracy: 0.8986\n",
            "Epoch 95/100\n",
            "39/39 [==============================] - 0s 3ms/step - loss: 0.1693 - accuracy: 0.9207 - val_loss: 0.2106 - val_accuracy: 0.9275\n",
            "Epoch 96/100\n",
            "39/39 [==============================] - 0s 3ms/step - loss: 0.1510 - accuracy: 0.9337 - val_loss: 0.2552 - val_accuracy: 0.8696\n",
            "Epoch 97/100\n",
            "39/39 [==============================] - 0s 3ms/step - loss: 0.1397 - accuracy: 0.9272 - val_loss: 0.2111 - val_accuracy: 0.9130\n",
            "Epoch 98/100\n",
            "39/39 [==============================] - 0s 3ms/step - loss: 0.1456 - accuracy: 0.9320 - val_loss: 0.2414 - val_accuracy: 0.8841\n",
            "Epoch 99/100\n",
            "39/39 [==============================] - 0s 3ms/step - loss: 0.1486 - accuracy: 0.9304 - val_loss: 0.1637 - val_accuracy: 0.9275\n",
            "Epoch 100/100\n",
            "39/39 [==============================] - 0s 3ms/step - loss: 0.1568 - accuracy: 0.9223 - val_loss: 0.2224 - val_accuracy: 0.8841\n"
          ]
        }
      ]
    },
    {
      "cell_type": "code",
      "source": [],
      "metadata": {
        "id": "GKBmGXNR4PWr"
      },
      "execution_count": null,
      "outputs": []
    },
    {
      "cell_type": "code",
      "source": [
        "# Membuat DataFrame dari history\n",
        "history_df = pd.DataFrame(history.history)\n",
        "\n",
        "# Membuat DataFrame terpisah untuk akurasi dan loss\n",
        "accuracy_df = history_df[['accuracy', 'val_accuracy']]\n",
        "loss_df = history_df[['loss', 'val_loss']]\n",
        "\n",
        "# Plot grafik akurasi\n",
        "plt.plot(history.history['accuracy'])\n",
        "plt.plot(history.history['val_accuracy'])\n",
        "plt.title('Model Accuracy')\n",
        "plt.xlabel('Epoch')\n",
        "plt.ylabel('Accuracy')\n",
        "plt.legend(['Train Accuracy', 'Val Accuracy'])\n",
        "plt.show()\n",
        "\n",
        "# Plot grafik loss\n",
        "plt.plot(history.history['loss'])\n",
        "plt.plot(history.history['val_loss'])\n",
        "plt.title('Model Loss')\n",
        "plt.xlabel('Epoch')\n",
        "plt.ylabel('Loss')\n",
        "plt.legend(['Train Loss', 'Val Loss'])\n",
        "plt.show()"
      ],
      "metadata": {
        "colab": {
          "base_uri": "https://localhost:8080/",
          "height": 927
        },
        "id": "96u-J1BRoYOZ",
        "outputId": "d1943129-786f-4bcf-df70-44515367f4cd"
      },
      "execution_count": null,
      "outputs": [
        {
          "output_type": "display_data",
          "data": {
            "text/plain": [
              "<Figure size 640x480 with 1 Axes>"
            ],
            "image/png": "[encoded data removed]"
          },
          "metadata": {}
        },
        {
          "output_type": "display_data",
          "data": {
            "text/plain": [
              "<Figure size 640x480 with 1 Axes>"
            ],
            "image/png": "[encoded data removed]"
          },
          "metadata": {}
        }
      ]
    },
    {
      "cell_type": "code",
      "source": [
        "# Melakukan prediksi dengan gejala baru\n",
        "new_gejala = x_test\n",
        "predictions = model.predict(new_gejala)\n",
        "predicted_label = tf.argmax(predictions, axis=1)\n",
        "\n",
        "print(\"Hasil prediksi:\", predicted_label.numpy())"
      ],
      "metadata": {
        "colab": {
          "base_uri": "https://localhost:8080/"
        },
        "id": "dEIJgiOaoc-6",
        "outputId": "e13a6cfb-dc36-4fe1-f1ce-34c26efb383e"
      },
      "execution_count": null,
      "outputs": [
        {
          "output_type": "stream",
          "name": "stdout",
          "text": [
            "3/3 [==============================] - 0s 3ms/step\n",
            "Hasil prediksi: [0 1 2 1 1 3 0 1 3 1 3 3 1 5 1 2 2 2 1 4 1 5 0 0 0 2 2 3 3 5 5 5 2 0 5 1 3\n",
            " 4 5 2 3 1 3 2 4 1 1 0 1 1 0 2 4 2 5 4 3 3 3 2 5 1 2 3 0 3 2 5 0]\n"
          ]
        }
      ]
    },
    {
      "cell_type": "code",
      "source": [
        "actual = np.array(y_test)"
      ],
      "metadata": {
        "id": "MiIcD2gxvrJR"
      },
      "execution_count": null,
      "outputs": []
    },
    {
      "cell_type": "code",
      "source": [
        "cm = confusion_matrix(actual, predicted_label.numpy()) \n",
        "cm"
      ],
      "metadata": {
        "colab": {
          "base_uri": "https://localhost:8080/"
        },
        "id": "8TVd1waSwo8D",
        "outputId": "c20fb975-d87c-4aa5-cca2-8ae13485c6e2"
      },
      "execution_count": null,
      "outputs": [
        {
          "output_type": "execute_result",
          "data": {
            "text/plain": [
              "array([[ 9,  2,  0,  0,  0,  0],\n",
              "       [ 0, 12,  0,  0,  0,  0],\n",
              "       [ 0,  0, 13,  0,  0,  0],\n",
              "       [ 0,  0,  1, 14,  0,  1],\n",
              "       [ 1,  0,  0,  0,  5,  1],\n",
              "       [ 0,  2,  0,  0,  0,  8]])"
            ]
          },
          "metadata": {},
          "execution_count": 15
        }
      ]
    },
    {
      "cell_type": "code",
      "source": [
        "from sklearn.metrics import balanced_accuracy_score\n",
        "result_prediction = 100*balanced_accuracy_score(actual, predicted_label.numpy())\n",
        "print(f\"AKURASI TERHADAP DATA TEST DENGAN PERSENTASE TINGKAT PREDIKSI YANG BENAR ADALAH {result_prediction}%\")"
      ],
      "metadata": {
        "id": "BHyENQ2losjX",
        "colab": {
          "base_uri": "https://localhost:8080/"
        },
        "outputId": "b5ee3a7f-61bc-4120-a82f-99931bc1cc2b"
      },
      "execution_count": null,
      "outputs": [
        {
          "output_type": "stream",
          "name": "stdout",
          "text": [
            "AKURASI TERHADAP DATA TEST DENGAN PERSENTASE TINGKAT PREDIKSI YANG BENAR ADALAH 86.79112554112555%\n"
          ]
        }
      ]
    },
    {
      "cell_type": "code",
      "source": [
        "model.save('model.h5')"
      ],
      "metadata": {
        "id": "Kkukm26qquGv"
      },
      "execution_count": null,
      "outputs": []
    },
    {
      "cell_type": "code",
      "source": [
        "# Intialize the TFLite converter to load the SavedModel\n",
        "converter = tf.lite.TFLiteConverter.from_keras_model(tf.keras.models.load_model('model.h5'))\n",
        "\n",
        "# Set the optimization strategy for 'size' in the converter \n",
        "converter.optimizations = [tf.lite.Optimize.DEFAULT]\n",
        "\n",
        "# Use the tool to finally convert the model\n",
        "tflite_model = converter.convert()\n",
        "\n",
        "# Write TFLite model\n",
        "tflite_model_file = 'alergy_model.tflite'\n",
        "\n",
        "with open(tflite_model_file, \"wb\") as f:\n",
        "    f.write(tflite_model)"
      ],
      "metadata": {
        "id": "5LTzRxFUrIy8",
        "colab": {
          "base_uri": "https://localhost:8080/"
        },
        "outputId": "98bdb155-d75d-4516-f40f-94fca10af896"
      },
      "execution_count": null,
      "outputs": [
        {
          "output_type": "stream",
          "name": "stderr",
          "text": [
            "WARNING:absl:Found untraced functions such as _update_step_xla while saving (showing 1 of 1). These functions will not be directly callable after loading.\n"
          ]
        }
      ]
    },
    {
      "cell_type": "code",
      "source": [
        "try:\n",
        "  files.download('alergy_model.tflite')\n",
        "except:\n",
        "  pass"
      ],
      "metadata": {
        "id": "kjff5BVM7PFw"
      },
      "execution_count": null,
      "outputs": []
    },
    {
      "cell_type": "markdown",
      "source": [
        "**Testing**\n",
        "checking for tflite file"
      ],
      "metadata": {
        "id": "ENOrOEQZIFIb"
      }
    },
    {
      "cell_type": "code",
      "source": [
        "#Check Input Tensor Shape\n",
        "tflite_model_path = \"alergy_model.tflite\""
      ],
      "metadata": {
        "id": "8NppUEQ4GU2a"
      },
      "execution_count": null,
      "outputs": []
    },
    {
      "cell_type": "code",
      "source": [
        "interpreter = tf.lite.Interpreter(model_path = tflite_model_path)\n",
        "input_details = interpreter.get_input_details()\n",
        "output_details = interpreter.get_output_details()\n",
        "print(\"Input Shape:\", input_details[0]['shape'])\n",
        "print(\"Input Type:\", input_details[0]['dtype'])\n",
        "print(\"Output Shape:\", output_details[0]['shape'])\n",
        "print(\"Output Type:\", output_details[0]['dtype'])"
      ],
      "metadata": {
        "colab": {
          "base_uri": "https://localhost:8080/"
        },
        "id": "HawK_lh48AGv",
        "outputId": "5fd66d14-4df9-4693-82a9-c620a70df237"
      },
      "execution_count": null,
      "outputs": [
        {
          "output_type": "stream",
          "name": "stdout",
          "text": [
            "Input Shape: [ 1 19]\n",
            "Input Type: <class 'numpy.float32'>\n",
            "Output Shape: [1 6]\n",
            "Output Type: <class 'numpy.float32'>\n"
          ]
        }
      ]
    },
    {
      "cell_type": "code",
      "source": [
        "# Membuat interpreter TensorFlow Lite\n",
        "interpreter = tf.lite.Interpreter(model_path=tflite_model_path)\n",
        "\n",
        "# Memuat model TFLite\n",
        "interpreter.allocate_tensors()"
      ],
      "metadata": {
        "id": "A260s17J_LNs"
      },
      "execution_count": null,
      "outputs": []
    },
    {
      "cell_type": "code",
      "source": [
        "input_details[0]['shape']\n",
        "output_details[0]['shape']"
      ],
      "metadata": {
        "colab": {
          "base_uri": "https://localhost:8080/"
        },
        "id": "1AXUX3zTJ_r6",
        "outputId": "954209ca-d000-4e13-b7ac-3fe28a3f68f5"
      },
      "execution_count": null,
      "outputs": [
        {
          "output_type": "execute_result",
          "data": {
            "text/plain": [
              "array([1, 6], dtype=int32)"
            ]
          },
          "metadata": {},
          "execution_count": 23
        }
      ]
    },
    {
      "cell_type": "code",
      "source": [
        "# Membuat array input\n",
        "input_data = np.array([[1, 1, 1, 0, 0, 0, 0, 0, 0, 1, 0, 0, 0, 1, 0, 0, 0, 0, 0]], dtype=np.float32)\n",
        "\n",
        "# Membuat interpreter TensorFlow Lite\n",
        "interpreter = tf.lite.Interpreter(model_path=tflite_model_path)\n",
        "\n",
        "# Memuat model TFLite\n",
        "interpreter.allocate_tensors()\n",
        "\n",
        "# Mendapatkan input dan output tensor dari interpreter\n",
        "input_details = interpreter.get_input_details()\n",
        "output_details = interpreter.get_output_details()\n",
        "\n",
        "# Menetapkan data input ke tensor input\n",
        "interpreter.set_tensor(input_details[0]['index'], input_data)\n",
        "\n",
        "# Menjalankan inferensi\n",
        "interpreter.invoke()\n",
        "\n",
        "# Mendapatkan output dari tensor output\n",
        "output_data = interpreter.get_tensor(output_details[0]['index'])\n",
        "\n",
        "# Melakukan sesuatu dengan output\n",
        "print(output_data)"
      ],
      "metadata": {
        "colab": {
          "base_uri": "https://localhost:8080/"
        },
        "id": "uVNYHSiXIZvN",
        "outputId": "d7acf461-5a73-4ad3-ce71-9e17776308c6"
      },
      "execution_count": null,
      "outputs": [
        {
          "output_type": "stream",
          "name": "stdout",
          "text": [
            "[[1.1387873e-03 3.8900662e-03 6.6179357e-04 3.2065087e-04 1.2805322e-04\n",
            "  9.9386072e-01]]\n"
          ]
        }
      ]
    },
    {
      "cell_type": "code",
      "source": [],
      "metadata": {
        "id": "O6NaNmP39nCq"
      },
      "execution_count": null,
      "outputs": []
    }
  ]
}