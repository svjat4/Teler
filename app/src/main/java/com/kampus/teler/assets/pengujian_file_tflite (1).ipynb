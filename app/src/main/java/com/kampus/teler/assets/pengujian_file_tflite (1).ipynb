{
  "nbformat": 4,
  "nbformat_minor": 0,
  "metadata": {
    "colab": {
      "provenance": []
    },
    "kernelspec": {
      "name": "python3",
      "display_name": "Python 3"
    },
    "language_info": {
      "name": "python"
    }
  },
  "cells": [
    {
      "cell_type": "code",
      "execution_count": 3,
      "metadata": {
        "id": "NJrfOv58G7RD"
      },
      "outputs": [],
      "source": [
        "import tensorflow as tf\n",
        "from tensorflow import keras\n",
        "from tensorflow.keras.models import Sequential\n",
        "from sklearn import metrics\n",
        "from keras.layers import Conv1D, MaxPooling1D, Conv2D, MaxPooling2D, Dropout, Flatten, Activation, BatchNormalization\n",
        "from tensorflow.keras.layers import Dense\n",
        "import matplotlib.pyplot as plt\n",
        "from sklearn.model_selection import train_test_split\n",
        "from sklearn.metrics import accuracy_score, confusion_matrix, precision_recall_fscore_support\n",
        "import pandas as pd\n",
        "import numpy as np\n",
        "import os"
      ]
    },
    {
      "cell_type": "code",
      "source": [
        "#Check Input Tensor Shape\n",
        "tflite_model_path = \"alergy_model.tflite\""
      ],
      "metadata": {
        "id": "7qAlBIGLHAyu"
      },
      "execution_count": 4,
      "outputs": []
    },
    {
      "cell_type": "code",
      "source": [
        "interpreter = tf.lite.Interpreter(model_path = tflite_model_path)\n",
        "input_details = interpreter.get_input_details()\n",
        "output_details = interpreter.get_output_details()\n",
        "print(\"Input Shape:\", input_details[0]['shape'])\n",
        "print(\"Input Type:\", input_details[0]['dtype'])\n",
        "print(\"Output Shape:\", output_details[0]['shape'])\n",
        "print(\"Output Type:\", output_details[0]['dtype'])"
      ],
      "metadata": {
        "colab": {
          "base_uri": "https://localhost:8080/"
        },
        "id": "LBUP7tSvHZYR",
        "outputId": "67764626-f777-4753-d2bd-e309b52383b5"
      },
      "execution_count": 5,
      "outputs": [
        {
          "output_type": "stream",
          "name": "stdout",
          "text": [
            "Input Shape: [ 1 19]\n",
            "Input Type: <class 'numpy.float32'>\n",
            "Output Shape: [1 6]\n",
            "Output Type: <class 'numpy.float32'>\n"
          ]
        }
      ]
    },
    {
      "cell_type": "code",
      "source": [
        "# Membuat interpreter TensorFlow Lite\n",
        "interpreter = tf.lite.Interpreter(model_path=tflite_model_path)\n",
        "\n",
        "# Memuat model TFLite\n",
        "interpreter.allocate_tensors()"
      ],
      "metadata": {
        "id": "sCW8usGLHbLB"
      },
      "execution_count": 6,
      "outputs": []
    },
    {
      "cell_type": "code",
      "source": [
        "input_details[0]['shape']"
      ],
      "metadata": {
        "colab": {
          "base_uri": "https://localhost:8080/"
        },
        "id": "x0g_RdmNHpCB",
        "outputId": "c4de0ee4-3c3c-407d-f93f-f512fcf27f70"
      },
      "execution_count": 7,
      "outputs": [
        {
          "output_type": "execute_result",
          "data": {
            "text/plain": [
              "array([ 1, 19], dtype=int32)"
            ]
          },
          "metadata": {},
          "execution_count": 7
        }
      ]
    },
    {
      "cell_type": "code",
      "source": [
        "output_details[0]['shape']"
      ],
      "metadata": {
        "colab": {
          "base_uri": "https://localhost:8080/"
        },
        "id": "upOF-dKNHqv2",
        "outputId": "c0d9c08d-dc00-4d27-c84b-4f4cf19dd41a"
      },
      "execution_count": 8,
      "outputs": [
        {
          "output_type": "execute_result",
          "data": {
            "text/plain": [
              "array([1, 6], dtype=int32)"
            ]
          },
          "metadata": {},
          "execution_count": 8
        }
      ]
    },
    {
      "cell_type": "code",
      "source": [
        "# Membuat array input\n",
        "input_data = np.array([[1, 1, 1, 0, 0, 0, 0, 0, 0, 0, 0, 0, 0, 0, 0, 0, 0, 0, 1]], dtype=np.float32)\n",
        "\n",
        "# Membuat interpreter TensorFlow Lite\n",
        "interpreter = tf.lite.Interpreter(model_path=tflite_model_path)\n",
        "\n",
        "# Memuat model TFLite\n",
        "interpreter.allocate_tensors()\n",
        "\n",
        "# Mendapatkan input dan output tensor dari interpreter\n",
        "input_details = interpreter.get_input_details()\n",
        "output_details = interpreter.get_output_details()\n",
        "\n",
        "# Menetapkan data input ke tensor input\n",
        "interpreter.set_tensor(input_details[0]['index'], input_data)\n",
        "\n",
        "# Menjalankan inferensi\n",
        "interpreter.invoke()\n",
        "\n",
        "# Mendapatkan output dari tensor output\n",
        "output_data = interpreter.get_tensor(output_details[0]['index'])\n",
        "\n",
        "# Melakukan sesuatu dengan output\n",
        "print(output_data)\n"
      ],
      "metadata": {
        "colab": {
          "base_uri": "https://localhost:8080/"
        },
        "id": "Uwf_Q8eVHsNy",
        "outputId": "4eae6a57-6089-43d5-9c3c-ec9e72ad5ee1"
      },
      "execution_count": 11,
      "outputs": [
        {
          "output_type": "stream",
          "name": "stdout",
          "text": [
            "[[2.1128729e-07 8.4174071e-03 3.2186422e-02 2.3763671e-03 7.2665489e-06\n",
            "  9.5701230e-01]]\n"
          ]
        }
      ]
    },
    {
      "cell_type": "code",
      "source": [
        "# Mendapatkan posisi array dengan nilai terbesar\n",
        "max_position = np.argmax(output_data)\n",
        "\n",
        "# Mencetak posisi array dengan nilai terbesar\n",
        "print(max_position)"
      ],
      "metadata": {
        "id": "f9ANJtraz-PO",
        "colab": {
          "base_uri": "https://localhost:8080/"
        },
        "outputId": "7c8c1e14-6879-417c-9263-2a7bb4b54ff3"
      },
      "execution_count": 12,
      "outputs": [
        {
          "output_type": "stream",
          "name": "stdout",
          "text": [
            "5\n"
          ]
        }
      ]
    },
    {
      "cell_type": "code",
      "source": [
        "# Menghubungkan posisi array dengan kategori alergi\n",
        "kategori_alergi = {\n",
        "    0: \"bulu hewan\",\n",
        "    1: \"debu/tungau\",\n",
        "    2: \"makanan\",\n",
        "    3: \"obat\",\n",
        "    4: \"serbuk sari\",\n",
        "    5: \"suhu udara (dingin/panas)\"\n",
        "}\n",
        "\n",
        "# Mendapatkan kategori alergi berdasarkan posisi array dengan nilai terbesar\n",
        "hasil_alergi = kategori_alergi[max_position]\n",
        "\n",
        "# Mencetak hasil alergi\n",
        "print(hasil_alergi)"
      ],
      "metadata": {
        "colab": {
          "base_uri": "https://localhost:8080/"
        },
        "id": "T_31i-ZVgOXO",
        "outputId": "c4373a8f-7c0f-4998-a08a-2ee13df3dadb"
      },
      "execution_count": 13,
      "outputs": [
        {
          "output_type": "stream",
          "name": "stdout",
          "text": [
            "suhu udara (dingin/panas)\n"
          ]
        }
      ]
    },
    {
      "cell_type": "code",
      "source": [],
      "metadata": {
        "id": "tzJALwergWTm"
      },
      "execution_count": null,
      "outputs": []
    }
  ]
}